{
 "metadata": {
  "language_info": {
   "codemirror_mode": {
    "name": "ipython",
    "version": 3
   },
   "file_extension": ".py",
   "mimetype": "text/x-python",
   "name": "python",
   "nbconvert_exporter": "python",
   "pygments_lexer": "ipython3",
   "version": "3.8.5-final"
  },
  "orig_nbformat": 2,
  "kernelspec": {
   "name": "python3",
   "display_name": "Python 3",
   "language": "python"
  }
 },
 "nbformat": 4,
 "nbformat_minor": 2,
 "cells": [
  {
   "source": [
    "# Import round data and setup\n",
    "import re\n",
    "from string import ascii_lowercase\n",
    "\n",
    "# Change this to the round data file\n",
    "data_set = \"example-rounds\"\n",
    "\n",
    "users = []\n",
    "for letter in tuple(ascii_lowercase):\n",
    "    for i in range(0,10):\n",
    "        users.append(letter + str(i))\n",
    "\n",
    "targets = tuple(filter(lambda x: x[1] == str(0), users))\n",
    "\n",
    "senders = []\n",
    "receivers = []\n",
    "with open(data_set, \"r\") as infile:\n",
    "    for line in infile:\n",
    "        senders.append(re.findall(\"\\'(.*?)\\'\", line))\n",
    "        receivers.append(re.findall(\"\\'(.*?)\\'\", infile.readline()))"
   ],
   "cell_type": "code",
   "metadata": {
    "tags": []
   },
   "execution_count": 42,
   "outputs": []
  },
  {
   "source": [
    "# Extended Statistical Disclosure Attack\n",
    " - Given a set of targets, for each target observe $t'$ batches where target did not send\n",
    " - For each batch $i$, make the vector $\\overline{u_{i}}$ where:\n",
    "    - Each element corresponds to a mix user (260 elements in this case)\n",
    "    - Elements are $1/b$ if the user received a message this round, where $b$ is batch size\n",
    "    - Elements are 0 if the user did not\n",
    " - Background distribution $\\overline{U}$ can then be estimated as: $$\\overline{U} = \\frac{1}{t'} \\sum_{i=1}^{t'} \\overline{u_{i}}$$\n",
    " "
   ],
   "cell_type": "markdown",
   "metadata": {}
  },
  {
   "source": [
    "Next, for each target observe $t$ batches where the target sends $m_{i}$ messages\n",
    " - For each batch $i$, make the vector $\\overline{o_{i}}$ where:\n",
    "    - Each element corresponds to a mix user (260 elements)\n",
    "    - Elements are $1/b$ if the user received a message this round, where $b$ is batch size\n",
    "    - Elements are 0 if the user did not\n",
    " - Compute observation $\\overline{O}$ as: $$\\overline{O} = \\frac{1}{t} \\sum_{i=1}^{t}\\overline{o_{i}}$$\n",
    " - Compute $\\overline{m}$ as: $$\\overline{m} = \\frac{1}{t} \\sum{m_{i}}$$\n"
   ],
   "cell_type": "markdown",
   "metadata": {}
  },
  {
   "cell_type": "code",
   "execution_count": 43,
   "metadata": {
    "tags": []
   },
   "outputs": [],
   "source": [
    "U_per_target = []\n",
    "O_per_target = []\n",
    "m_per_target = []\n",
    "for target in targets:\n",
    "    u_i_set = []\n",
    "    o_i_set = []\n",
    "    m_i_set = []\n",
    "    for i_send, i_receive in zip(senders, receivers):\n",
    "        if target in i_send:\n",
    "            o_i = []\n",
    "            for user in users:\n",
    "                if user in i_receive:\n",
    "                    o_i.append(1/32)\n",
    "                else:\n",
    "                    o_i.append(0)\n",
    "            m_i_set.append(i_send.count(target))\n",
    "            o_i_set.append(o_i)\n",
    "        else:\n",
    "            u_i = []\n",
    "            for user in users:\n",
    "                if user in i_receive:\n",
    "                    u_i.append(1/32)\n",
    "                else:\n",
    "                    u_i.append(0)\n",
    "            u_i_set.append(u_i)\n",
    "    \n",
    "    t_prime = len(u_i_set)\n",
    "    U = [sum(i) for i in zip(*u_i_set)] # TODO: Check this line for correctness?\n",
    "    U = list(map(lambda x: (1/t_prime)*x, U))\n",
    "    U_per_target.append(U)\n",
    "\n",
    "    t = len(o_i_set)\n",
    "    m = sum(m_i_set) * (1/t)\n",
    "    m_per_target.append(m)\n",
    "    O = [sum(i) for i in zip(*o_i_set)] # TODO: Check this line for correctness?\n",
    "    O = list(map(lambda x: (1/t)*x, O))\n",
    "    O_per_target.append(O)\n",
    "        "
   ]
  },
  {
   "source": [
    "Now that all observations are completed, the behaviour vector $\\overline{v}$ of the target can be estimated as: $$\\overline{v} = \\frac{1}{\\overline{m}} [b * \\overline{O} - (b - \\overline{m})\\overline{U}]$$"
   ],
   "cell_type": "markdown",
   "metadata": {}
  },
  {
   "cell_type": "code",
   "execution_count": 44,
   "metadata": {
    "tags": []
   },
   "outputs": [],
   "source": [
    "v_per_target = []\n",
    "# m is scalar, U and O are 1d 260 mag vectors, v will be 1d 260 mag vector\n",
    "for target, U, O, m in zip(targets, U_per_target, O_per_target, m_per_target):\n",
    "    b_O = list(map(lambda x: x*32, O))\n",
    "    b_m_U = list(map(lambda x: x*(32-m), U))\n",
    "    square_brackets = []\n",
    "    for i, j in zip(b_O, b_m_U):\n",
    "        square_brackets.append(i - j)\n",
    "    v = list(map(lambda x: (1/m) * x, square_brackets))\n",
    "    v_per_target.append(v)"
   ]
  },
  {
   "source": [
    "Finally, the top two probabilities from each v are picked out, and the corresponding users are predicted to be the friends of the target in $v$. Results are stored in an array for each target."
   ],
   "cell_type": "markdown",
   "metadata": {}
  },
  {
   "cell_type": "code",
   "execution_count": 45,
   "metadata": {
    "tags": []
   },
   "outputs": [],
   "source": [
    "friends = []\n",
    "for target, v in zip(targets, v_per_target):\n",
    "    # We'll say the likey friends are the top two probablities\n",
    "    zipped = zip(users, v)\n",
    "    friendranks = sorted(zipped, key=lambda x: x[1])\n",
    "    friends.append([ friendranks[-1][0], friendranks[-2][0] ])"
   ]
  },
  {
   "cell_type": "code",
   "execution_count": 48,
   "metadata": {},
   "outputs": [
    {
     "output_type": "stream",
     "name": "stdout",
     "text": [
      "a0: 2/2 correct\n     Guess: m2, e6\n     Actual: e6, m2\nb0: 1/2 correct\n     Guess: w7, d5\n     Actual: d5, a8\nc0: 1/2 correct\n     Guess: m4, s9\n     Actual: u0, m4\nd0: 1/2 correct\n     Guess: b3, n1\n     Actual: b3, i9\ne0: 2/2 correct\n     Guess: a0, y0\n     Actual: a0, y0\nf0: 2/2 correct\n     Guess: k0, r3\n     Actual: k0, r3\ng0: 1/2 correct\n     Guess: k0, l8\n     Actual: k0, s8\nh0: 2/2 correct\n     Guess: x7, t7\n     Actual: t7, x7\ni0: 1/2 correct\n     Guess: p4, j1\n     Actual: p4, a3\nj0: 2/2 correct\n     Guess: l5, n8\n     Actual: n8, l5\nk0: 1/2 correct\n     Guess: c7, z7\n     Actual: p4, c7\nl0: 2/2 correct\n     Guess: d0, u3\n     Actual: d0, u3\nm0: 2/2 correct\n     Guess: w7, j6\n     Actual: j6, w7\nn0: 1/2 correct\n     Guess: l7, e8\n     Actual: u3, l7\no0: 1/2 correct\n     Guess: z4, a6\n     Actual: g4, a6\np0: 2/2 correct\n     Guess: u3, v7\n     Actual: u3, v7\nq0: 1/2 correct\n     Guess: y6, a4\n     Actual: r9, y6\nr0: 1/2 correct\n     Guess: b7, c9\n     Actual: b7, t7\ns0: 1/2 correct\n     Guess: s5, n2\n     Actual: s5, y6\nt0: 1/2 correct\n     Guess: x5, w7\n     Actual: s0, x5\nu0: 2/2 correct\n     Guess: y3, i8\n     Actual: y3, i8\nv0: 1/2 correct\n     Guess: p8, d0\n     Actual: p8, o1\nw0: 1/2 correct\n     Guess: v5, e3\n     Actual: p2, v5\nx0: 2/2 correct\n     Guess: d1, h7\n     Actual: d1, h7\ny0: 0/2 correct\n     Guess: p0, r9\n     Actual: h6, h8\nz0: 1/2 correct\n     Guess: x8, n8\n     Actual: x8, f3\nTotal score: 35/52\n"
     ]
    }
   ],
   "source": [
    "# Export to CSV, or if this is example rounds check the results with the key\n",
    "if data_set == \"example-rounds\":\n",
    "    friends_key = []\n",
    "    with open(\"example-truth\", \"r\") as infile:\n",
    "        vals = re.findall(\"\\'(.*?)\\'\", infile.read())\n",
    "        for idx, val in enumerate(vals):\n",
    "            if idx % 3 == 0 or idx % 3 == 1:\n",
    "                continue\n",
    "            friends_key.append([vals[idx-1], val])\n",
    "    # scoring\n",
    "    points = 0\n",
    "    for user, key, guess in zip(targets, friends_key, friends):\n",
    "        u_points = 0\n",
    "        if key[0] in guess:\n",
    "            u_points += 1\n",
    "        if key[1] in guess:\n",
    "            u_points += 1\n",
    "        points += u_points\n",
    "        print(user + \": \" + str(u_points) + \"/2 correct\")\n",
    "        print(\"     Guess: \" + guess[0] + \", \" + guess[1])\n",
    "        print(\"     Actual: \" + key[0] + \", \" + key[1])\n",
    "    print(\"Total score: \" + str(points) + \"/52\")\n",
    "        \n"
   ]
  },
  {
   "cell_type": "code",
   "execution_count": null,
   "metadata": {},
   "outputs": [],
   "source": []
  }
 ]
}