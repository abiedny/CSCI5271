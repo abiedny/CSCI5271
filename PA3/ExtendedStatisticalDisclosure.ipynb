{
 "metadata": {
  "language_info": {
   "codemirror_mode": {
    "name": "ipython",
    "version": 3
   },
   "file_extension": ".py",
   "mimetype": "text/x-python",
   "name": "python",
   "nbconvert_exporter": "python",
   "pygments_lexer": "ipython3",
   "version": "3.8.5-final"
  },
  "orig_nbformat": 2,
  "kernelspec": {
   "name": "python3",
   "display_name": "Python 3",
   "language": "python"
  }
 },
 "nbformat": 4,
 "nbformat_minor": 2,
 "cells": [
  {
   "source": [
    "# Import round data and setup\n",
    "import re\n",
    "from string import ascii_lowercase\n",
    "\n",
    "# Change this to the round data file\n",
    "data_set = \"target-rounds\"\n",
    "\n",
    "users = []\n",
    "for letter in tuple(ascii_lowercase):\n",
    "    for i in range(0,10):\n",
    "        users.append(letter + str(i))\n",
    "\n",
    "targets = tuple(filter(lambda x: x[1] == str(0), users))\n",
    "\n",
    "senders = []\n",
    "receivers = []\n",
    "with open(data_set, \"r\") as infile:\n",
    "    for line in infile:\n",
    "        senders.append(re.findall(\"\\'(.*?)\\'\", line))\n",
    "        receivers.append(re.findall(\"\\'(.*?)\\'\", infile.readline()))"
   ],
   "cell_type": "code",
   "metadata": {
    "tags": []
   },
   "execution_count": 12,
   "outputs": []
  },
  {
   "source": [
    "# Extended Statistical Disclosure Attack\n",
    "Based on included paper by Mathewson and Dingledine.\n",
    " - Given a set of targets, for each target observe $t'$ batches where target did not send\n",
    " - For each batch $i$, make the vector $\\overline{u_{i}}$ where:\n",
    "    - Each element corresponds to a mix user (260 elements in this case)\n",
    "    - Elements are $1/b$ if the user received a message this round, where $b$ is batch size\n",
    "    - Elements are 0 if the user did not\n",
    " - Background distribution $\\overline{U}$ can then be estimated as: $$\\overline{U} = \\frac{1}{t'} \\sum_{i=1}^{t'} \\overline{u_{i}}$$\n",
    " "
   ],
   "cell_type": "markdown",
   "metadata": {}
  },
  {
   "source": [
    "Next, for each target observe $t$ batches where the target sends $m_{i}$ messages\n",
    " - For each batch $i$, make the vector $\\overline{o_{i}}$ where:\n",
    "    - Each element corresponds to a mix user (260 elements)\n",
    "    - Elements are $1/b$ if the user received a message this round, where $b$ is batch size\n",
    "    - Elements are 0 if the user did not\n",
    " - Compute observation $\\overline{O}$ as: $$\\overline{O} = \\frac{1}{t} \\sum_{i=1}^{t}\\overline{o_{i}}$$\n",
    " - Compute $\\overline{m}$ as: $$\\overline{m} = \\frac{1}{t} \\sum{m_{i}}$$\n"
   ],
   "cell_type": "markdown",
   "metadata": {}
  },
  {
   "cell_type": "code",
   "execution_count": 13,
   "metadata": {
    "tags": []
   },
   "outputs": [],
   "source": [
    "U_per_target = []\n",
    "O_per_target = []\n",
    "m_per_target = []\n",
    "for target in targets:\n",
    "    u_i_set = []\n",
    "    o_i_set = []\n",
    "    m_i_set = []\n",
    "    for i_send, i_receive in zip(senders, receivers):\n",
    "        if target in i_send:\n",
    "            o_i = []\n",
    "            for user in users:\n",
    "                if user in i_receive:\n",
    "                    o_i.append(1/32)\n",
    "                else:\n",
    "                    o_i.append(0)\n",
    "            m_i_set.append(i_send.count(target))\n",
    "            o_i_set.append(o_i)\n",
    "        else:\n",
    "            u_i = []\n",
    "            for user in users:\n",
    "                if user in i_receive:\n",
    "                    u_i.append(1/32)\n",
    "                else:\n",
    "                    u_i.append(0)\n",
    "            u_i_set.append(u_i)\n",
    "    \n",
    "    t_prime = len(u_i_set)\n",
    "    U = [sum(i) for i in zip(*u_i_set)]\n",
    "    U = list(map(lambda x: (1/t_prime)*x, U))\n",
    "    U_per_target.append(U)\n",
    "\n",
    "    t = len(o_i_set)\n",
    "    m = sum(m_i_set) * (1/t)\n",
    "    m_per_target.append(m)\n",
    "    O = [sum(i) for i in zip(*o_i_set)]\n",
    "    O = list(map(lambda x: (1/t)*x, O))\n",
    "    O_per_target.append(O)\n",
    "        "
   ]
  },
  {
   "source": [
    "Now that all observations are completed, the behavior vector $\\overline{v}$ of the target can be estimated as: $$\\overline{v} = \\frac{1}{\\overline{m}} [b * \\overline{O} - (b - \\overline{m})\\overline{U}]$$"
   ],
   "cell_type": "markdown",
   "metadata": {}
  },
  {
   "cell_type": "code",
   "execution_count": 14,
   "metadata": {
    "tags": []
   },
   "outputs": [],
   "source": [
    "v_per_target = []\n",
    "# m is scalar, U and O are 1d 260 mag vectors, v will be 1d 260 mag vector\n",
    "for target, U, O, m in zip(targets, U_per_target, O_per_target, m_per_target):\n",
    "    b_O = list(map(lambda x: x*32, O))\n",
    "    b_m_U = list(map(lambda x: x*(32-m), U))\n",
    "    square_brackets = []\n",
    "    for i, j in zip(b_O, b_m_U):\n",
    "        square_brackets.append(i - j)\n",
    "    v = list(map(lambda x: (1/m) * x, square_brackets))\n",
    "    v_per_target.append(v)"
   ]
  },
  {
   "source": [
    "Finally, the top two probabilities from each v are picked out, and the corresponding users are predicted to be the friends of the target in $v$. Results are stored in an array for each target."
   ],
   "cell_type": "markdown",
   "metadata": {}
  },
  {
   "cell_type": "code",
   "execution_count": 15,
   "metadata": {
    "tags": []
   },
   "outputs": [],
   "source": [
    "friends = []\n",
    "for target, v in zip(targets, v_per_target):\n",
    "    # We'll say the likey friends are the top two probablities\n",
    "    zipped = zip(users, v)\n",
    "    friendranks = sorted(zipped, key=lambda x: x[1])\n",
    "    friends.append([ friendranks[-1][0], friendranks[-2][0] ])"
   ]
  },
  {
   "cell_type": "code",
   "execution_count": 16,
   "metadata": {},
   "outputs": [],
   "source": [
    "if data_set == \"example-rounds\":\n",
    "    # Check the results against the key\n",
    "    friends_key = []\n",
    "    with open(\"example-truth\", \"r\") as infile:\n",
    "        vals = re.findall(\"\\'(.*?)\\'\", infile.read())\n",
    "        for idx, val in enumerate(vals):\n",
    "            if idx % 3 == 0 or idx % 3 == 1:\n",
    "                continue\n",
    "            friends_key.append([vals[idx-1], val])\n",
    "    # scoring\n",
    "    points = 0\n",
    "    for user, key, guess in zip(targets, friends_key, friends):\n",
    "        u_points = 0\n",
    "        if key[0] in guess:\n",
    "            u_points += 1\n",
    "        if key[1] in guess:\n",
    "            u_points += 1\n",
    "        points += u_points\n",
    "        print(user + \": \" + str(u_points) + \"/2 correct\")\n",
    "        print(\"     Guess: \" + guess[0] + \", \" + guess[1])\n",
    "        print(\"     Actual: \" + key[0] + \", \" + key[1])\n",
    "    print(\"Total score: \" + str(points) + \"/52\")\n",
    "else:\n",
    "    # Export to CSV, format is target,f1,f2\n",
    "    with open(\"results.csv\", \"w\") as outfile:\n",
    "        lines = []\n",
    "        for target, guess in zip(targets, friends):\n",
    "            lines.append(target + \",\" + guess[0] + \",\" + guess[1] + \"\\n\")\n",
    "        outfile.writelines(lines)\n"
   ]
  }
 ]
}